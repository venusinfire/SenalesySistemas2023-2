{
  "cells": [
    {
      "cell_type": "markdown",
      "metadata": {
        "id": "view-in-github",
        "colab_type": "text"
      },
      "source": [
        "<a href=\"https://colab.research.google.com/github/venusinfire/SenalesySistemas2023-2/blob/main/PythonBasics/Copia_de_7_Clases.ipynb\" target=\"_parent\"><img src=\"https://colab.research.google.com/assets/colab-badge.svg\" alt=\"Open In Colab\"/></a>"
      ]
    },
    {
      "cell_type": "markdown",
      "metadata": {
        "id": "hFnAE4eorCHN"
      },
      "source": [
        "# Clases en python.\n",
        "\n",
        "Las clases son una forma de organizar y estructurar el código en Python. Pueden contener funciones y variables, lo que las hace muy versátiles. Las clases son una parte fundamental de la programación orientada a objetos (POO).\n",
        "\n",
        "La POO es un paradigma de programación que utiliza objetos para representar entidades del mundo real. Por ejemplo, una clase \"Coche\" podría representar un coche del mundo real, con sus propiedades (marca, modelo, color, etc.) y sus métodos (acelerar, frenar, girar, etc.).\n",
        "\n",
        "\n",
        "En términos simples, una clase en programación es una plantilla o molde que se utiliza para crear objetos. La clase define las propiedades y los comportamientos de los objetos que se crean a partir de ella.\n",
        "\n",
        "**Ejemplo**:\n",
        "\n",
        "Piensa en una clase como si fuera un plano para construir un edificio. El plano especifica cómo debe ser el edificio, incluyendo el número de pisos, el número de habitaciones, el tamaño de las ventanas, etc.\n",
        "\n",
        "De manera similar, una clase define las características y comportamientos que tendrá un objeto. Por ejemplo, si tenemos una clase \"Coche\", podemos definir las propiedades de un coche, como su marca, modelo, color, etc. y los comportamientos que tiene un coche, como acelerar, frenar y girar. Luego, podemos crear múltiples objetos \"coche\" a partir de esta clase, cada uno con sus propias propiedades y comportamientos.\n",
        "\n"
      ]
    },
    {
      "cell_type": "markdown",
      "metadata": {
        "id": "E-tNF60K_9b9"
      },
      "source": [
        "### **Crear una clase**\n",
        "\n",
        "Para crear una clase en Python, usamos la palabra clave \"class\", seguida del nombre de la clase:"
      ]
    },
    {
      "cell_type": "code",
      "execution_count": null,
      "metadata": {
        "colab": {
          "base_uri": "https://localhost:8080/",
          "height": 140
        },
        "id": "hi8DOAlZmPjH",
        "outputId": "b22d75e8-faa8-4bd8-f8dd-6018d311c6e0"
      },
      "outputs": [
        {
          "output_type": "error",
          "ename": "SyntaxError",
          "evalue": "ignored",
          "traceback": [
            "\u001b[0;36m  File \u001b[0;32m\"<ipython-input-24-0bc96e81d1fc>\"\u001b[0;36m, line \u001b[0;32m1\u001b[0m\n\u001b[0;31m    class Coche:\u001b[0m\n\u001b[0m                ^\u001b[0m\n\u001b[0;31mSyntaxError\u001b[0m\u001b[0;31m:\u001b[0m incomplete input\n"
          ]
        }
      ],
      "source": [
        "class Coche:"
      ]
    },
    {
      "cell_type": "markdown",
      "metadata": {
        "id": "aTnx3vjGAIh7"
      },
      "source": [
        "Dentro de la clase, podemos definir variables y funciones. Las variables se llaman \"atributos\" y las funciones se llaman \"métodos\"."
      ]
    },
    {
      "cell_type": "markdown",
      "metadata": {
        "id": "DT2TvFHxAJlz"
      },
      "source": [
        "#### **Atributos**\n",
        "\n",
        "Los atributos son variables que pertenecen a una clase. Por ejemplo, en una clase \"Coche\", los atributos podrían ser \"marca\", \"modelo\" y \"color\". Para definir un atributo, lo hacemos dentro de la clase, pero fuera de cualquier método:"
      ]
    },
    {
      "cell_type": "code",
      "execution_count": null,
      "metadata": {
        "id": "sfC5pdD7ANuq"
      },
      "outputs": [],
      "source": [
        "class Coche:\n",
        "    marca = \"Toyota\"\n",
        "    modelo = \"Corolla\"\n",
        "    color = \"Rojo\""
      ]
    },
    {
      "cell_type": "markdown",
      "metadata": {
        "id": "1TDchxG8ASQD"
      },
      "source": [
        "#### **Métodos**\n",
        "\n",
        "Los métodos son funciones que pertenecen a una clase. Por ejemplo, en una clase \"Coche\", los métodos podrían ser \"acelerar\", \"frenar\" y \"girar\". Para definir un método, lo hacemos dentro de la clase:\n",
        "\n"
      ]
    },
    {
      "cell_type": "code",
      "execution_count": null,
      "metadata": {
        "id": "q33frF1wAX9C"
      },
      "outputs": [],
      "source": [
        "class Coche:\n",
        "    marca = \"Toyota\"\n",
        "    modelo = \"Corolla\"\n",
        "    color = \"Rojo\"\n",
        "\n",
        "    def acelerar(self):\n",
        "        print(\"El coche está acelerando\")\n",
        "\n",
        "    def frenar(self):\n",
        "        print(\"El coche está frenando\")\n",
        "\n",
        "    def girar(self, direccion):\n",
        "        print(\"El coche está girando hacia \" + direccion)"
      ]
    },
    {
      "cell_type": "markdown",
      "metadata": {
        "id": "o41PexstAdY6"
      },
      "source": [
        "**Nota**: El primer parámetro de un método siempre es \"self\". Este parámetro hace referencia al objeto que se está creando. Por ejemplo, si creamos un objeto \"coche\" a partir de la clase \"Coche\", al llamar al método \"acelerar\", el objeto \"coche\" se pasará automáticamente como primer parámetro."
      ]
    },
    {
      "cell_type": "markdown",
      "metadata": {
        "id": "hnRv4ZMtAgt7"
      },
      "source": [
        "### **Crear un objeto**\n",
        "\n",
        "Para crear un objeto a partir de una clase, simplemente hacemos lo siguiente:"
      ]
    },
    {
      "cell_type": "code",
      "execution_count": null,
      "metadata": {
        "id": "4TlvhlD1Alrs"
      },
      "outputs": [],
      "source": [
        "coche = Coche()"
      ]
    },
    {
      "cell_type": "markdown",
      "metadata": {
        "id": "fMCPalavAm-D"
      },
      "source": [
        "Esto crea un objeto \"coche\" a partir de la clase \"Coche\". Podemos acceder a los atributos y métodos del objeto de la siguiente manera:"
      ]
    },
    {
      "cell_type": "code",
      "execution_count": null,
      "metadata": {
        "colab": {
          "base_uri": "https://localhost:8080/"
        },
        "id": "HZAkrbk7Aoti",
        "outputId": "8909e167-bb3b-4370-cb6b-08582b40de02"
      },
      "outputs": [
        {
          "output_type": "stream",
          "name": "stdout",
          "text": [
            "Toyota\n",
            "Corolla\n",
            "Rojo\n",
            "El coche está acelerando\n",
            "El coche está frenando\n",
            "El coche está girando hacia izquierda\n"
          ]
        }
      ],
      "source": [
        "print(coche.marca)\n",
        "print(coche.modelo)\n",
        "print(coche.color)\n",
        "\n",
        "coche.acelerar()\n",
        "coche.frenar()\n",
        "coche.girar(\"izquierda\")"
      ]
    },
    {
      "cell_type": "markdown",
      "metadata": {
        "id": "TR-xIdH1AqQL"
      },
      "source": [
        "### Ejemplo_1\n",
        "\n",
        "En este ejemplo, podríamos crear una clase llamada \"Perro\" que tenga atributos como nombre, raza, edad, tamaño, y métodos como ladrar, correr, morder, etc."
      ]
    },
    {
      "cell_type": "code",
      "execution_count": null,
      "metadata": {
        "id": "Rk7z54NkA9OK"
      },
      "outputs": [],
      "source": [
        "class Perro:\n",
        "    def __init__(self, nombre, raza, edad, tamaño):\n",
        "        self.nombre = nombre\n",
        "        self.raza = raza\n",
        "        self.edad = edad\n",
        "        self.tamaño = tamaño\n",
        "\n",
        "    def ladrar(self):\n",
        "        print(f\"{self.nombre} está ladrando.\")\n",
        "\n",
        "    def correr(self):\n",
        "        print(f\"{self.nombre} está corriendo.\")\n",
        "\n",
        "    def morder(self):\n",
        "        print(f\"{self.nombre} está mordiendo.\")"
      ]
    },
    {
      "cell_type": "markdown",
      "metadata": {
        "id": "KLr8hp8oA6ai"
      },
      "source": [
        "En este ejemplo, la función '__init__' es el constructor de la clase, que se utiliza para inicializar los atributos de la clase. Luego, se definen los métodos ladrar, correr y morder que describen los comportamientos que puede tener un perro.\n",
        "\n",
        "Podemos crear objetos de la clase \"Perro\" de la siguiente manera:"
      ]
    },
    {
      "cell_type": "code",
      "execution_count": null,
      "metadata": {
        "id": "N2HsvjXhA-jB"
      },
      "outputs": [],
      "source": [
        "perro1 = Perro(\"Fido\", \"Labrador\", 3, \"Grande\")\n",
        "perro2 = Perro(\"Toby\", \"Chihuahua\", 2, \"Pequeño\")"
      ]
    },
    {
      "cell_type": "markdown",
      "metadata": {
        "id": "fQEU8p17Cayg"
      },
      "source": [
        "Cada objeto creado a partir de la clase \"Perro\" tendrá sus propios atributos y comportamientos. Por ejemplo, podemos llamar al método ladrar del objeto perro1 de la siguiente manera"
      ]
    },
    {
      "cell_type": "code",
      "execution_count": null,
      "metadata": {
        "colab": {
          "base_uri": "https://localhost:8080/"
        },
        "id": "rhS8cNz8Calx",
        "outputId": "a3dde71d-7693-4a81-f3ae-a3a176b4b7fa"
      },
      "outputs": [
        {
          "output_type": "stream",
          "name": "stdout",
          "text": [
            "Fido está ladrando.\n"
          ]
        }
      ],
      "source": [
        "perro1.ladrar()"
      ]
    },
    {
      "cell_type": "markdown",
      "metadata": {
        "id": "tDvFelEXCtPB"
      },
      "source": [
        "### Ejercicio_2\n",
        "\n",
        "Supongamos que estás construyendo un sistema de tienda en línea en Python. El sistema necesita manejar muchos productos diferentes, cada uno con sus propias propiedades como nombre, descripción, precio, inventario, etc. También necesita manejar diferentes clientes y sus órdenes de compra."
      ]
    },
    {
      "cell_type": "markdown",
      "metadata": {
        "id": "WBaNntfvDcnQ"
      },
      "source": [
        "**¿Cómo podemos hacerlo?**\n",
        "\n",
        "Por ejemplo, podríamos crear una clase \"Producto\" que tenga atributos como nombre, descripción, precio, inventario, etc., y métodos para agregar y eliminar productos del inventario.\n",
        "\n",
        "De manera similar, podríamos crear una clase \"Cliente\" que tenga atributos como nombre, dirección de correo electrónico, historial de compras, etc., y métodos para realizar pedidos y revisar su historial de compras.\n",
        "\n",
        "Finalmente, podríamos crear una clase \"Orden\" que tenga atributos como los productos que se compraron, la cantidad, el costo total, etc., y métodos para confirmar la orden y actualizar el inventario.\n"
      ]
    },
    {
      "cell_type": "code",
      "execution_count": null,
      "metadata": {
        "id": "fPeeKFK3Dil2"
      },
      "outputs": [],
      "source": [
        "class Producto:\n",
        "    def __init__(self, nombre, descripcion, precio, inventario):\n",
        "        self.nombre = nombre\n",
        "        self.descripcion = descripcion\n",
        "        self.precio = precio\n",
        "        self.inventario = inventario\n",
        "\n",
        "    def agregar_inventario(self, cantidad):\n",
        "        self.inventario += cantidad\n",
        "\n",
        "    def eliminar_inventario(self, cantidad):\n",
        "        self.inventario -= cantidad"
      ]
    },
    {
      "cell_type": "markdown",
      "metadata": {
        "id": "xxxNYz0FDoUf"
      },
      "source": [
        "En este ejemplo, la función __init__ es el constructor de la clase \"Producto\" y se utiliza para inicializar los atributos de la clase. Los métodos agregar_inventario y eliminar_inventario se utilizan para agregar o eliminar productos del inventario.\n",
        "\n",
        "Con estas clases, podemos manejar fácilmente la información de los productos, los clientes y las órdenes de compra en nuestro sistema de tienda en línea"
      ]
    },
    {
      "cell_type": "markdown",
      "metadata": {
        "id": "laT0U1q4D0eP"
      },
      "source": [
        "## Ejercicios\n",
        "\n",
        "1. Crea una clase \"Persona\" que tenga atributos como nombre, edad, género y métodos para presentarse y saludar a otras personas.\n",
        "\n",
        "2. Crea una clase \"Coche\" que tenga atributos como marca, modelo, año, kilometraje y métodos para arrancar, acelerar y frenar.\n",
        "\n",
        "3. Crea una clase \"Rectángulo\" que tenga atributos como longitud y ancho y métodos para calcular el área y el perímetro.\n",
        "\n",
        "4. Crea una clase \"Banco\" que tenga atributos como nombre, dirección y métodos para abrir una cuenta, depositar dinero, retirar dinero y revisar el saldo.\n",
        "\n",
        "5. Crea una clase \"Estudiante\" que tenga atributos como nombre, edad, promedio y métodos para estudiar, hacer tareas y presentar exámenes."
      ]
    },
    {
      "cell_type": "code",
      "execution_count": null,
      "metadata": {
        "colab": {
          "base_uri": "https://localhost:8080/"
        },
        "id": "bJxYlPum3FcL",
        "outputId": "d0a836bf-0824-4f33-a1ab-f685b43bc747"
      },
      "outputs": [
        {
          "output_type": "stream",
          "name": "stdout",
          "text": [
            "¡Hola! Soy Laura, tengo 20 años y soy de género Femenino.\n",
            "Hola, Laura!\n"
          ]
        }
      ],
      "source": [
        "class Persona:\n",
        "    def __init__(self, nombre, edad, genero):\n",
        "        self.nombre = nombre\n",
        "        self.edad = edad\n",
        "        self.genero = genero\n",
        "\n",
        "    def presentarse(self):\n",
        "        print(f\"¡Hola! Soy {self.nombre}, tengo {self.edad} años y soy de género {self.genero}.\")\n",
        "\n",
        "    def saludar(self, otra_persona):\n",
        "        print(f\"Hola, {otra_persona.nombre}!\")\n",
        "\n",
        "\n",
        "persona1 = Persona(\"Laura\", 20, \"Femenino\")\n",
        "persona2 = Persona(\"David\", 25, \"Masculino\")\n",
        "\n",
        "persona1.presentarse()\n",
        "persona2.saludar(persona1)\n"
      ]
    },
    {
      "cell_type": "code",
      "execution_count": null,
      "metadata": {
        "colab": {
          "base_uri": "https://localhost:8080/"
        },
        "id": "xnh8KjtgG-2A",
        "outputId": "e297386e-1d40-4477-83b7-c81c929652ee"
      },
      "outputs": [
        {
          "output_type": "stream",
          "name": "stdout",
          "text": [
            "El coche Lamborghini Veneno ha arrancado.\n",
            "Para acelerar pisa el embrague y lo sueltas lentamente mientras que aceleras\n",
            "Para frenar pisa el embrague y freno al tiempo para que no se apague\n"
          ]
        }
      ],
      "source": [
        "class Coche:\n",
        "    def __init__(self, marca, modelo, año, kilometraje):\n",
        "        self.marca = marca\n",
        "        self.modelo = modelo\n",
        "        self.año = año\n",
        "        self.kilometraje = kilometraje\n",
        "\n",
        "    def arrancar(self):\n",
        "        print(f\"El coche {self.marca} {self.modelo} ha arrancado.\")\n",
        "\n",
        "    def acelerar(self):\n",
        "        print(\"Para acelerar pisa el embrague y lo sueltas lentamente mientras que aceleras\")\n",
        "\n",
        "    def frenar(self):\n",
        "        print(\"Para frenar pisa el embrague y freno al tiempo para que no se apague\")\n",
        "\n",
        "\n",
        "coche1 = Coche(\"Lamborghini\", \"Veneno\", 2020, 500)\n",
        "\n",
        "coche1.arrancar()\n",
        "coche1.acelerar()\n",
        "coche1.frenar()\n"
      ]
    },
    {
      "cell_type": "code",
      "execution_count": null,
      "metadata": {
        "colab": {
          "base_uri": "https://localhost:8080/"
        },
        "id": "yr68a2_h3aW1",
        "outputId": "0d2a71af-59e0-4603-e01d-753133792c76"
      },
      "outputs": [
        {
          "output_type": "stream",
          "name": "stdout",
          "text": [
            "Área del rectángulo: 15\n",
            "Perímetro del rectángulo: 16\n"
          ]
        }
      ],
      "source": [
        "class Rectangulo:\n",
        "    def __init__(self, longitud, ancho):\n",
        "        self.longitud = longitud\n",
        "        self.ancho = ancho\n",
        "\n",
        "    def calcular_area(self):\n",
        "        return self.longitud * self.ancho\n",
        "\n",
        "    def calcular_perimetro(self):\n",
        "        return 2 * (self.longitud + self.ancho)\n",
        "\n",
        "rectangulo1 = Rectangulo(5, 3)\n",
        "print(\"Área del rectángulo:\", rectangulo1.calcular_area())\n",
        "print(\"Perímetro del rectángulo:\", rectangulo1.calcular_perimetro())"
      ]
    },
    {
      "cell_type": "code",
      "source": [
        "class Banco:\n",
        "    def __init__(self, nombre, direccion):\n",
        "        self.nombre = nombre\n",
        "        self.direccion = direccion\n",
        "        self.cuentas = {}  # Un diccionario para almacenar las cuentas de los clientes\n",
        "\n",
        "    def abrir_cuenta(self, cliente, saldo_inicial):\n",
        "        if cliente not in self.cuentas:\n",
        "            self.cuentas[cliente] = saldo_inicial\n",
        "            return f\"Cuenta abierta para {cliente} con saldo inicial de ${saldo_inicial}\"\n",
        "        else:\n",
        "            return f\"El cliente {cliente} ya tiene una cuenta en {self.nombre}\"\n",
        "\n",
        "    def depositar_dinero(self, cliente, cantidad):\n",
        "        if cliente in self.cuentas:\n",
        "            self.cuentas[cliente] += cantidad\n",
        "            return f\"Depósito de ${cantidad} realizado en la cuenta de {cliente}\"\n",
        "        else:\n",
        "            return f\"El cliente {cliente} no tiene una cuenta en {self.nombre}\"\n",
        "\n",
        "    def retirar_dinero(self, cliente, cantidad):\n",
        "        if cliente in self.cuentas:\n",
        "            if self.cuentas[cliente] >= cantidad:\n",
        "                self.cuentas[cliente] -= cantidad\n",
        "                return f\"Retiro de ${cantidad} realizado de la cuenta de {cliente}\"\n",
        "            else:\n",
        "                return f\"Fondos insuficientes en la cuenta de {cliente}\"\n",
        "        else:\n",
        "            return f\"El cliente {cliente} no tiene una cuenta en {self.nombre}\"\n",
        "\n",
        "    def revisar_saldo(self, cliente):\n",
        "        if cliente in self.cuentas:\n",
        "            return f\"Saldo en la cuenta de {cliente}: ${self.cuentas[cliente]}\"\n",
        "        else:\n",
        "            return f\"El cliente {cliente} no tiene una cuenta en {self.nombre}\"\n",
        "mi_banco = Banco(\"Mi Banco\", \"Calle Principal\")\n",
        "print(mi_banco.abrir_cuenta(\"Juan\", 1000))\n",
        "print(mi_banco.depositar_dinero(\"Juan\", 500))\n",
        "print(mi_banco.retirar_dinero(\"Juan\", 200))\n",
        "print(mi_banco.revisar_saldo(\"Juan\"))\n"
      ],
      "metadata": {
        "colab": {
          "base_uri": "https://localhost:8080/"
        },
        "id": "mdDygT8g38au",
        "outputId": "b1b893a0-4392-4cb7-d8db-fa143fb86033"
      },
      "execution_count": null,
      "outputs": [
        {
          "output_type": "stream",
          "name": "stdout",
          "text": [
            "Cuenta abierta para Juan con saldo inicial de $1000\n",
            "Depósito de $500 realizado en la cuenta de Juan\n",
            "Retiro de $200 realizado de la cuenta de Juan\n",
            "Saldo en la cuenta de Juan: $1300\n"
          ]
        }
      ]
    },
    {
      "cell_type": "code",
      "source": [
        "class Estudiante:\n",
        "    def __init__(self, nombre, edad, promedio):\n",
        "        self.nombre = nombre\n",
        "        self.edad = edad\n",
        "        self.promedio = promedio\n",
        "\n",
        "    def estudiar(self):\n",
        "        return f\"{self.nombre} está estudiando.\"\n",
        "\n",
        "    def hacer_tareas(self):\n",
        "        return f\"{self.nombre} está haciendo sus tareas.\"\n",
        "\n",
        "    def presentar_examenes(self):\n",
        "        return f\"{self.nombre} está presentando sus exámenes.\"\n",
        "\n",
        "estudiante1 = Estudiante(\"Ana\", 20, 85)\n",
        "print(estudiante1.estudiar())\n",
        "print(estudiante1.hacer_tareas())\n",
        "print(estudiante1.presentar_examenes())"
      ],
      "metadata": {
        "colab": {
          "base_uri": "https://localhost:8080/"
        },
        "id": "Dq-qlrAX4Pa2",
        "outputId": "a36d7aa4-fb69-4bb8-afef-2643e3def7dd"
      },
      "execution_count": null,
      "outputs": [
        {
          "output_type": "stream",
          "name": "stdout",
          "text": [
            "Ana está estudiando.\n",
            "Ana está haciendo sus tareas.\n",
            "Ana está presentando sus exámenes.\n"
          ]
        }
      ]
    }
  ],
  "metadata": {
    "colab": {
      "provenance": [],
      "include_colab_link": true
    },
    "kernelspec": {
      "display_name": "Python 3",
      "name": "python3"
    },
    "language_info": {
      "name": "python"
    }
  },
  "nbformat": 4,
  "nbformat_minor": 0
}