{
  "cells": [
    {
      "cell_type": "markdown",
      "metadata": {
        "id": "view-in-github",
        "colab_type": "text"
      },
      "source": [
        "<a href=\"https://colab.research.google.com/github/venusinfire/SenalesySistemas2023-2/blob/main/3_SerieyTransformadaFourier/Copia_de_Copia_de_Sounds_basic_v2.ipynb\" target=\"_parent\"><img src=\"https://colab.research.google.com/assets/colab-badge.svg\" alt=\"Open In Colab\"/></a>"
      ]
    },
    {
      "cell_type": "markdown",
      "metadata": {
        "id": "c1HmVjv3wf7t"
      },
      "source": [
        "## Clasificador de canciones"
      ]
    },
    {
      "cell_type": "markdown",
      "metadata": {
        "id": "nUSJFikYwf71"
      },
      "source": [
        "#### Importar las librerias necesarias"
      ]
    },
    {
      "cell_type": "code",
      "execution_count": null,
      "metadata": {
        "id": "98iN9QCIwqjW"
      },
      "outputs": [],
      "source": [
        "try:\n",
        "    import yt_dlp as youtube_dl\n",
        "except:\n",
        "    !python3 -m pip install --force-reinstall https://github.com/yt-dlp/yt-dlp/archive/master.tar.gz\n",
        "\n",
        "from IPython.display import Audio\n",
        "import matplotlib.pyplot as plt\n",
        "import yt_dlp as youtube_dl\n",
        "from urllib import request\n",
        "import subprocess as sp\n",
        "import soundfile as sf\n",
        "import pandas as pd\n",
        "import numpy as np\n",
        "import json\n",
        "import os\n",
        "f = os.system('cls' if os.name == 'nt' else 'clear') #eliminar resultados de ejecucion"
      ]
    },
    {
      "cell_type": "markdown",
      "metadata": {
        "id": "3umRP33cxD85"
      },
      "source": [
        "https://drive.google.com/file/d/10SIJAlmNV2ec1_WbKv_R2alqUMSDVaoE/view?usp=share_link"
      ]
    },
    {
      "cell_type": "code",
      "execution_count": null,
      "metadata": {
        "colab": {
          "base_uri": "https://localhost:8080/"
        },
        "id": "XkPieWFgDZMt",
        "outputId": "fbc1f044-6eda-43c2-c7d5-3e828759d374"
      },
      "outputs": [
        {
          "output_type": "stream",
          "name": "stdout",
          "text": [
            "--2023-10-19 22:33:05--  https://docs.google.com/uc?export=download&confirm=&id=1GhRQ14-fRahE9tJmekQ9ggn5zXJORGRCL2SfJqq3Qwg\n",
            "Resolving docs.google.com (docs.google.com)... 172.217.219.139, 172.217.219.102, 172.217.219.100, ...\n",
            "Connecting to docs.google.com (docs.google.com)|172.217.219.139|:443... connected.\n",
            "HTTP request sent, awaiting response... 303 See Other\n",
            "Location: https://doc-0g-0g-docs.googleusercontent.com/docs/securesc/ha0ro937gcuc7l7deffksulhg5h7mbp1/lgekjnbc8n934qcet081pr0hqjinji68/1697754750000/06689292972694442233/*/1GhRQ14-fRahE9tJmekQ9ggn5zXJORGRCL2SfJqq3Qwg?e=download&uuid=9e666ce5-8303-4176-abd0-4f523e7fa448 [following]\n",
            "Warning: wildcards not supported in HTTP.\n",
            "--2023-10-19 22:33:05--  https://doc-0g-0g-docs.googleusercontent.com/docs/securesc/ha0ro937gcuc7l7deffksulhg5h7mbp1/lgekjnbc8n934qcet081pr0hqjinji68/1697754750000/06689292972694442233/*/1GhRQ14-fRahE9tJmekQ9ggn5zXJORGRCL2SfJqq3Qwg?e=download&uuid=9e666ce5-8303-4176-abd0-4f523e7fa448\n",
            "Resolving doc-0g-0g-docs.googleusercontent.com (doc-0g-0g-docs.googleusercontent.com)... 142.251.6.132, 2607:f8b0:4001:c5a::84\n",
            "Connecting to doc-0g-0g-docs.googleusercontent.com (doc-0g-0g-docs.googleusercontent.com)|142.251.6.132|:443... connected.\n",
            "HTTP request sent, awaiting response... 500 Internal Server Error\n",
            "2023-10-19 22:33:05 ERROR 500: Internal Server Error.\n",
            "\n",
            "Archive:  Datos1.zip\n",
            "  End-of-central-directory signature not found.  Either this file is not\n",
            "  a zipfile, or it constitutes one disk of a multi-part archive.  In the\n",
            "  latter case the central directory and zipfile comment will be found on\n",
            "  the last disk(s) of this archive.\n",
            "unzip:  cannot find zipfile directory in one of Datos1.zip or\n",
            "        Datos1.zip.zip, and cannot find Datos1.zip.ZIP, period.\n",
            "Datos1.zip  sample_data\n"
          ]
        }
      ],
      "source": [
        "FILEID = \"1GhRQ14-fRahE9tJmekQ9ggn5zXJORGRCL2SfJqq3Qwg\"\n",
        "!wget --load-cookies /tmp/cookies.txt \"https://docs.google.com/uc?export=download&confirm=$(wget --quiet --save-cookies /tmp/cookies.txt --keep-session-cookies --no-check-certificate 'https://docs.google.com/uc?export=download&id='$FILEID -O- | sed -rn 's/.*confirm=([0-9A-Za-z_]+).*/\\1\\n/p')&id=\"$FILEID -O Datos1.zip && rm -rf /tmp/cookies.txt\n",
        "!unzip Datos1.zip\n",
        "!dir"
      ]
    },
    {
      "cell_type": "markdown",
      "metadata": {
        "id": "HT3kl1BJwf75"
      },
      "source": [
        "#### Función para descargar los audios"
      ]
    },
    {
      "cell_type": "code",
      "execution_count": null,
      "metadata": {
        "id": "ImUz463Awf76"
      },
      "outputs": [],
      "source": [
        "def download_ytvid_as_mp3(video_url, path):\n",
        "    video_info = youtube_dl.YoutubeDL().extract_info(url=video_url, download=False)\n",
        "    filename = f\"{path}.mp3\"\n",
        "    options = {\n",
        "        'format': 'bestaudio/best',\n",
        "        'keepvideo': False,\n",
        "        'outtmpl': filename,\n",
        "    }\n",
        "    with youtube_dl.YoutubeDL(options) as ydl:\n",
        "        ydl.download([video_info['webpage_url']])\n",
        "    inputData = f'{path}.mp3'\n",
        "    outputData = f'{path}.wav'\n",
        "    if not os.path.exists(inputData): #verifica que el audio se descargo correctamente\n",
        "        print(f\"El archivo {inputData} no existe.\")\n",
        "        return\n",
        "    else: #convertir el auido descargado a formato .wav\n",
        "        sp.call(['ffmpeg', '-i', inputData, outputData])\n",
        "        os.remove(inputData) #eliminar el audion en formato mp3\n",
        "    print(f\"Download complete... {filename}\")\n"
      ]
    },
    {
      "cell_type": "markdown",
      "metadata": {
        "id": "xjdkULGxwf77"
      },
      "source": [
        "#### Obtener informacion del video desde la API de youtube"
      ]
    },
    {
      "cell_type": "code",
      "execution_count": null,
      "metadata": {
        "id": "8w50fEUDwf78"
      },
      "outputs": [],
      "source": [
        "def get_title(url,label):\n",
        "    url_Api = 'https://www.youtube.com/oembed?url'\n",
        "    data = request.urlopen(f\"{url_Api}={url}\")\n",
        "    data = json.loads(data.read())\n",
        "    return data[label]"
      ]
    },
    {
      "cell_type": "markdown",
      "metadata": {
        "id": "pgg57vF2wf78"
      },
      "source": [
        "### Segmentos de interes por canción\n",
        "se elige un segmentos de de 20 segundos por cancion\n"
      ]
    },
    {
      "cell_type": "code",
      "execution_count": null,
      "metadata": {
        "id": "YCK5-Ey9wf8p"
      },
      "outputs": [],
      "source": [
        "def audio_parts(signal,fs):\n",
        "    log_t =len(signal)\n",
        "    med_s = [int((log_t/4)-0*fs),int((log_t/4)+20*fs)]\n",
        "    return(med_s)"
      ]
    },
    {
      "cell_type": "markdown",
      "metadata": {
        "id": "LFKyUKYjwf8r"
      },
      "source": [
        "### Función para graficar una señal"
      ]
    },
    {
      "cell_type": "code",
      "execution_count": null,
      "metadata": {
        "id": "k7mAXCrMwf8t"
      },
      "outputs": [],
      "source": [
        "def plt_signal(vf,Xw):\n",
        "    plt.plot(vf,abs(Xw),linewidth=0.5)#se grafica la magnitud\n",
        "    plt.legend(('canal 1','canal 2'))\n",
        "    #plt.title(f'parte: {round(ti,2)} - {round(tf,2)}')\n",
        "    plt.xlabel(r'$f[Hz]$',fontsize = 14)\n",
        "    plt.ylabel(r'$|X[n]|$',fontsize = 14)\n",
        "    plt.show()\n",
        "\n",
        "def subplot_signal(x1,y1,x2,y2):\n",
        "    plt.figure(figsize=(12,6))\n",
        "\n",
        "    plt.subplot(121) # 1 = #filas, 2 = #columnas, 1 = # dibujo\n",
        "    plt.plot(x1,abs(y1),linewidth=0.5)\n",
        "    plt.xlabel('$f[Hz]$')\n",
        "    plt.ylabel('$Ampl$')\n",
        "    #plt.title(f'parte: {round(ti,2)} - {round(tf,2)}')\n",
        "    plt.legend(('canal 1','canal 2'))\n",
        "\n",
        "    plt.subplot(122)\n",
        "    plt.plot(x2,y2,linewidth=0.5)\n",
        "    plt.xlabel('t[s]')\n",
        "    plt.ylabel('$Ampl$')\n",
        "    #plt.title(f'parte: {round(ti,2)} - {round(tf,2)}')\n",
        "    plt.legend(('canal 1','canal 2'))\n",
        "    plt.subplots_adjust(hspace=0.2,wspace=0.2)\n",
        "    plt.show()"
      ]
    },
    {
      "cell_type": "markdown",
      "metadata": {
        "id": "V-jB4amowf8x"
      },
      "source": [
        "### Procesar Transformada de Fourier a cada parte de las canciones\n",
        "la sigunete funcion aplica fft a cada secmento tomado por cacion, luego este es guardado en un achivo de extencion .npy"
      ]
    },
    {
      "cell_type": "code",
      "execution_count": null,
      "metadata": {
        "id": "q6z6IWHRwf8y"
      },
      "outputs": [],
      "source": [
        "def fft_song(song,path):\n",
        "    xpro = song.copy()\n",
        "    Xw = np.fft.rfft(xpro,axis=0) # axis=0 permite aplicar fft por cada columna de xpro\n",
        "    np.save(f'{path}',Xw)"
      ]
    },
    {
      "cell_type": "markdown",
      "metadata": {
        "id": "zClrlvhcwf8y"
      },
      "source": [
        "### Importar transformadas de Fourier de cada audio\n",
        "Luego de guardar en memoria externa cada una de las trasformadas, se cargan al prgrama para su respectivo análisis"
      ]
    },
    {
      "cell_type": "code",
      "execution_count": null,
      "metadata": {
        "id": "x6MJxSY-wf8z"
      },
      "outputs": [],
      "source": [
        "def loads_fft(path):\n",
        "    print(f'leyendo {path}')\n",
        "    data = np.load(f'{path}.npy')\n",
        "    return data"
      ]
    },
    {
      "cell_type": "markdown",
      "metadata": {
        "id": "BnntzqcCwf80"
      },
      "source": [
        "### Se crea la clase canción\n",
        "la clase define todos los atributos y metodos disponibles para un audio"
      ]
    },
    {
      "cell_type": "code",
      "execution_count": null,
      "metadata": {
        "id": "yqnBHwiqwf80"
      },
      "outputs": [],
      "source": [
        "class Song():\n",
        "    def __init__(self,link,genero,index):\n",
        "        self.name = f'{index}_{genero}'\n",
        "        self.genero = genero\n",
        "        self.link = link\n",
        "        self.path_Org = f'{genero}/Org/{self.name}' #ruta de audio original\n",
        "        self.path_FFT = f'{genero}/FFT/{self.name}' #ruta del audio procesado\n",
        "        self.vf = [] #vector de frecuencia\n",
        "        self.sections = [] #amacena el intervalo de tiempo de los segmentos tomados del audio\n",
        "        self.fft_sections = [] #matriz: almacena la transformada de cada segmento\n",
        "\n",
        "    def download(self):     #descargar audio y guardar en formato.wav\n",
        "        download_ytvid_as_mp3(self.link,self.path_Org)\n",
        "\n",
        "    def load_song(self):    #importar la informacion desde un archivo en memoria\n",
        "        #self.read_x()\n",
        "        try:\n",
        "            self.fft_sections = loads_fft(f'{self.path_FFT}') #leer archivo que contiene las trasforamas de la cancion\n",
        "        except:\n",
        "            print(f'{self.path_FFT}: Error en la lectrura de los datos. intente descargar el audio')\n",
        "\n",
        "        #self.vf = np.fft.rfftfreq(int(16*self.fs),1/self.fs) #se crea el vector de frecuencias\n",
        "\n",
        "    def read_x(self):\n",
        "        try:\n",
        "            x_T, self.fs = sf.read(f'{self.path_Org}.wav') #leer la cancion original\n",
        "        except:\n",
        "            self.download()\n",
        "            x_T, self.fs = sf.read(f'{self.path_Org}.wav')\n",
        "        self.sections = audio_parts(x_T,self.fs) #dividir el archivo en secciones\n",
        "        x = x_T[self.sections[0]:self.sections[1],:]\n",
        "        return x\n",
        "\n",
        "    def process_song(self,plot=False):\n",
        "        try:\n",
        "            os.makedirs(os.path.join(self.genero,'FFT')) #se cra una carpeta pra almacenar la transformada correspondiente\n",
        "        except:\n",
        "            pass\n",
        "        x = self.read_x()\n",
        "        fft_song(x,self.path_FFT) #aplicar transformada a cada seccion y guardar\n",
        "\n",
        "    def plot_sections(self,dual=False):\n",
        "        try:\n",
        "            print(\"Descargando datos\")\n",
        "            self.vf = np.fft.rfftfreq(int(20*self.fs),1/self.fs) #se crea el vector de frecuencias\n",
        "        except:\n",
        "            self.download()\n",
        "            x_T, self.fs = sf.read(f'{self.path_Org}.wav')\n",
        "            self.vf = np.fft.rfftfreq(int(20*self.fs),1/self.fs) #se crea el vector de frecuencias\n",
        "\n",
        "\n",
        "        if dual == True:\n",
        "            x = self.read_x()\n",
        "            tt = np.arange(0,20,1/self.fs)\n",
        "            subplot_signal(self.vf,self.fft_sections,tt,x)\n",
        "        else:\n",
        "            plt_signal(self.vf,self.fft_sections)\n",
        "\n",
        "    def play_section(self):\n",
        "        x = self.read_x()\n",
        "        return x.T\n",
        "\n",
        "    def title(self):\n",
        "        return get_title(self.link,'title')"
      ]
    },
    {
      "cell_type": "markdown",
      "metadata": {
        "id": "Z_wvoXqnwf81"
      },
      "source": [
        "### Funcion para extraer link y nombres desde una base de datos de excel\n"
      ]
    },
    {
      "cell_type": "code",
      "execution_count": null,
      "metadata": {
        "id": "NYHBMxigwf81"
      },
      "outputs": [],
      "source": [
        "def links(genero):\n",
        "    path = 'links.xlsx'\n",
        "    id = 0\n",
        "    data = pd.read_excel(path, sheet_name=genero)\n",
        "    songs = []\n",
        "    for index, row in data.iterrows():\n",
        "        id += 1\n",
        "        #title = get_title(row['Links'],'title')\n",
        "        #print(f'Titulo {id-1}: {title}')\n",
        "        songs.append(Song(row['Links'],genero,id))\n",
        "\n",
        "    print(f'Catidad de datos cargados de {genero}: {id}')\n",
        "    return songs"
      ]
    },
    {
      "cell_type": "markdown",
      "metadata": {
        "id": "K55ZoaOvwf82"
      },
      "source": [
        "### Iniciar la descarga de todos los archivos"
      ]
    },
    {
      "cell_type": "markdown",
      "metadata": {
        "id": "U6xeeaeLEnZ_"
      },
      "source": [
        "Procesar cada audio y guardarlo en una matriz de datos"
      ]
    },
    {
      "cell_type": "code",
      "execution_count": null,
      "metadata": {
        "colab": {
          "base_uri": "https://localhost:8080/",
          "height": 354
        },
        "id": "LjgGsO6ct_8d",
        "outputId": "c53e50aa-d209-48d7-8c14-8df054512209"
      },
      "outputs": [
        {
          "output_type": "error",
          "ename": "FileNotFoundError",
          "evalue": "ignored",
          "traceback": [
            "\u001b[0;31m---------------------------------------------------------------------------\u001b[0m",
            "\u001b[0;31mFileNotFoundError\u001b[0m                         Traceback (most recent call last)",
            "\u001b[0;32m<ipython-input-32-b1672b50968b>\u001b[0m in \u001b[0;36m<cell line: 2>\u001b[0;34m()\u001b[0m\n\u001b[1;32m      1\u001b[0m \u001b[0mgeneros\u001b[0m \u001b[0;34m=\u001b[0m \u001b[0;34m[\u001b[0m\u001b[0;34m'Metal'\u001b[0m\u001b[0;34m,\u001b[0m \u001b[0;34m'Rock'\u001b[0m\u001b[0;34m]\u001b[0m\u001b[0;34m\u001b[0m\u001b[0;34m\u001b[0m\u001b[0m\n\u001b[0;32m----> 2\u001b[0;31m \u001b[0mdb\u001b[0m \u001b[0;34m=\u001b[0m \u001b[0;34m[\u001b[0m\u001b[0mlinks\u001b[0m \u001b[0;34m(\u001b[0m\u001b[0mi\u001b[0m\u001b[0;34m)\u001b[0m \u001b[0;32mfor\u001b[0m \u001b[0mi\u001b[0m \u001b[0;32min\u001b[0m \u001b[0mgeneros\u001b[0m\u001b[0;34m]\u001b[0m\u001b[0;34m\u001b[0m\u001b[0;34m\u001b[0m\u001b[0m\n\u001b[0m",
            "\u001b[0;32m<ipython-input-32-b1672b50968b>\u001b[0m in \u001b[0;36m<listcomp>\u001b[0;34m(.0)\u001b[0m\n\u001b[1;32m      1\u001b[0m \u001b[0mgeneros\u001b[0m \u001b[0;34m=\u001b[0m \u001b[0;34m[\u001b[0m\u001b[0;34m'Metal'\u001b[0m\u001b[0;34m,\u001b[0m \u001b[0;34m'Rock'\u001b[0m\u001b[0;34m]\u001b[0m\u001b[0;34m\u001b[0m\u001b[0;34m\u001b[0m\u001b[0m\n\u001b[0;32m----> 2\u001b[0;31m \u001b[0mdb\u001b[0m \u001b[0;34m=\u001b[0m \u001b[0;34m[\u001b[0m\u001b[0mlinks\u001b[0m \u001b[0;34m(\u001b[0m\u001b[0mi\u001b[0m\u001b[0;34m)\u001b[0m \u001b[0;32mfor\u001b[0m \u001b[0mi\u001b[0m \u001b[0;32min\u001b[0m \u001b[0mgeneros\u001b[0m\u001b[0;34m]\u001b[0m\u001b[0;34m\u001b[0m\u001b[0;34m\u001b[0m\u001b[0m\n\u001b[0m",
            "\u001b[0;32m<ipython-input-31-0be9cf4b92f5>\u001b[0m in \u001b[0;36mlinks\u001b[0;34m(genero)\u001b[0m\n\u001b[1;32m      2\u001b[0m     \u001b[0mpath\u001b[0m \u001b[0;34m=\u001b[0m \u001b[0;34m'links.xlsx'\u001b[0m\u001b[0;34m\u001b[0m\u001b[0;34m\u001b[0m\u001b[0m\n\u001b[1;32m      3\u001b[0m     \u001b[0mid\u001b[0m \u001b[0;34m=\u001b[0m \u001b[0;36m0\u001b[0m\u001b[0;34m\u001b[0m\u001b[0;34m\u001b[0m\u001b[0m\n\u001b[0;32m----> 4\u001b[0;31m     \u001b[0mdata\u001b[0m \u001b[0;34m=\u001b[0m \u001b[0mpd\u001b[0m\u001b[0;34m.\u001b[0m\u001b[0mread_excel\u001b[0m\u001b[0;34m(\u001b[0m\u001b[0mpath\u001b[0m\u001b[0;34m,\u001b[0m \u001b[0msheet_name\u001b[0m\u001b[0;34m=\u001b[0m\u001b[0mgenero\u001b[0m\u001b[0;34m)\u001b[0m\u001b[0;34m\u001b[0m\u001b[0;34m\u001b[0m\u001b[0m\n\u001b[0m\u001b[1;32m      5\u001b[0m     \u001b[0msongs\u001b[0m \u001b[0;34m=\u001b[0m \u001b[0;34m[\u001b[0m\u001b[0;34m]\u001b[0m\u001b[0;34m\u001b[0m\u001b[0;34m\u001b[0m\u001b[0m\n\u001b[1;32m      6\u001b[0m     \u001b[0;32mfor\u001b[0m \u001b[0mindex\u001b[0m\u001b[0;34m,\u001b[0m \u001b[0mrow\u001b[0m \u001b[0;32min\u001b[0m \u001b[0mdata\u001b[0m\u001b[0;34m.\u001b[0m\u001b[0miterrows\u001b[0m\u001b[0;34m(\u001b[0m\u001b[0;34m)\u001b[0m\u001b[0;34m:\u001b[0m\u001b[0;34m\u001b[0m\u001b[0;34m\u001b[0m\u001b[0m\n",
            "\u001b[0;32m/usr/local/lib/python3.10/dist-packages/pandas/util/_decorators.py\u001b[0m in \u001b[0;36mwrapper\u001b[0;34m(*args, **kwargs)\u001b[0m\n\u001b[1;32m    209\u001b[0m                 \u001b[0;32melse\u001b[0m\u001b[0;34m:\u001b[0m\u001b[0;34m\u001b[0m\u001b[0;34m\u001b[0m\u001b[0m\n\u001b[1;32m    210\u001b[0m                     \u001b[0mkwargs\u001b[0m\u001b[0;34m[\u001b[0m\u001b[0mnew_arg_name\u001b[0m\u001b[0;34m]\u001b[0m \u001b[0;34m=\u001b[0m \u001b[0mnew_arg_value\u001b[0m\u001b[0;34m\u001b[0m\u001b[0;34m\u001b[0m\u001b[0m\n\u001b[0;32m--> 211\u001b[0;31m             \u001b[0;32mreturn\u001b[0m \u001b[0mfunc\u001b[0m\u001b[0;34m(\u001b[0m\u001b[0;34m*\u001b[0m\u001b[0margs\u001b[0m\u001b[0;34m,\u001b[0m \u001b[0;34m**\u001b[0m\u001b[0mkwargs\u001b[0m\u001b[0;34m)\u001b[0m\u001b[0;34m\u001b[0m\u001b[0;34m\u001b[0m\u001b[0m\n\u001b[0m\u001b[1;32m    212\u001b[0m \u001b[0;34m\u001b[0m\u001b[0m\n\u001b[1;32m    213\u001b[0m         \u001b[0;32mreturn\u001b[0m \u001b[0mcast\u001b[0m\u001b[0;34m(\u001b[0m\u001b[0mF\u001b[0m\u001b[0;34m,\u001b[0m \u001b[0mwrapper\u001b[0m\u001b[0;34m)\u001b[0m\u001b[0;34m\u001b[0m\u001b[0;34m\u001b[0m\u001b[0m\n",
            "\u001b[0;32m/usr/local/lib/python3.10/dist-packages/pandas/util/_decorators.py\u001b[0m in \u001b[0;36mwrapper\u001b[0;34m(*args, **kwargs)\u001b[0m\n\u001b[1;32m    329\u001b[0m                     \u001b[0mstacklevel\u001b[0m\u001b[0;34m=\u001b[0m\u001b[0mfind_stack_level\u001b[0m\u001b[0;34m(\u001b[0m\u001b[0;34m)\u001b[0m\u001b[0;34m,\u001b[0m\u001b[0;34m\u001b[0m\u001b[0;34m\u001b[0m\u001b[0m\n\u001b[1;32m    330\u001b[0m                 )\n\u001b[0;32m--> 331\u001b[0;31m             \u001b[0;32mreturn\u001b[0m \u001b[0mfunc\u001b[0m\u001b[0;34m(\u001b[0m\u001b[0;34m*\u001b[0m\u001b[0margs\u001b[0m\u001b[0;34m,\u001b[0m \u001b[0;34m**\u001b[0m\u001b[0mkwargs\u001b[0m\u001b[0;34m)\u001b[0m\u001b[0;34m\u001b[0m\u001b[0;34m\u001b[0m\u001b[0m\n\u001b[0m\u001b[1;32m    332\u001b[0m \u001b[0;34m\u001b[0m\u001b[0m\n\u001b[1;32m    333\u001b[0m         \u001b[0;31m# error: \"Callable[[VarArg(Any), KwArg(Any)], Any]\" has no\u001b[0m\u001b[0;34m\u001b[0m\u001b[0;34m\u001b[0m\u001b[0m\n",
            "\u001b[0;32m/usr/local/lib/python3.10/dist-packages/pandas/io/excel/_base.py\u001b[0m in \u001b[0;36mread_excel\u001b[0;34m(io, sheet_name, header, names, index_col, usecols, squeeze, dtype, engine, converters, true_values, false_values, skiprows, nrows, na_values, keep_default_na, na_filter, verbose, parse_dates, date_parser, thousands, decimal, comment, skipfooter, convert_float, mangle_dupe_cols, storage_options)\u001b[0m\n\u001b[1;32m    480\u001b[0m     \u001b[0;32mif\u001b[0m \u001b[0;32mnot\u001b[0m \u001b[0misinstance\u001b[0m\u001b[0;34m(\u001b[0m\u001b[0mio\u001b[0m\u001b[0;34m,\u001b[0m \u001b[0mExcelFile\u001b[0m\u001b[0;34m)\u001b[0m\u001b[0;34m:\u001b[0m\u001b[0;34m\u001b[0m\u001b[0;34m\u001b[0m\u001b[0m\n\u001b[1;32m    481\u001b[0m         \u001b[0mshould_close\u001b[0m \u001b[0;34m=\u001b[0m \u001b[0;32mTrue\u001b[0m\u001b[0;34m\u001b[0m\u001b[0;34m\u001b[0m\u001b[0m\n\u001b[0;32m--> 482\u001b[0;31m         \u001b[0mio\u001b[0m \u001b[0;34m=\u001b[0m \u001b[0mExcelFile\u001b[0m\u001b[0;34m(\u001b[0m\u001b[0mio\u001b[0m\u001b[0;34m,\u001b[0m \u001b[0mstorage_options\u001b[0m\u001b[0;34m=\u001b[0m\u001b[0mstorage_options\u001b[0m\u001b[0;34m,\u001b[0m \u001b[0mengine\u001b[0m\u001b[0;34m=\u001b[0m\u001b[0mengine\u001b[0m\u001b[0;34m)\u001b[0m\u001b[0;34m\u001b[0m\u001b[0;34m\u001b[0m\u001b[0m\n\u001b[0m\u001b[1;32m    483\u001b[0m     \u001b[0;32melif\u001b[0m \u001b[0mengine\u001b[0m \u001b[0;32mand\u001b[0m \u001b[0mengine\u001b[0m \u001b[0;34m!=\u001b[0m \u001b[0mio\u001b[0m\u001b[0;34m.\u001b[0m\u001b[0mengine\u001b[0m\u001b[0;34m:\u001b[0m\u001b[0;34m\u001b[0m\u001b[0;34m\u001b[0m\u001b[0m\n\u001b[1;32m    484\u001b[0m         raise ValueError(\n",
            "\u001b[0;32m/usr/local/lib/python3.10/dist-packages/pandas/io/excel/_base.py\u001b[0m in \u001b[0;36m__init__\u001b[0;34m(self, path_or_buffer, engine, storage_options)\u001b[0m\n\u001b[1;32m   1650\u001b[0m                 \u001b[0mext\u001b[0m \u001b[0;34m=\u001b[0m \u001b[0;34m\"xls\"\u001b[0m\u001b[0;34m\u001b[0m\u001b[0;34m\u001b[0m\u001b[0m\n\u001b[1;32m   1651\u001b[0m             \u001b[0;32melse\u001b[0m\u001b[0;34m:\u001b[0m\u001b[0;34m\u001b[0m\u001b[0;34m\u001b[0m\u001b[0m\n\u001b[0;32m-> 1652\u001b[0;31m                 ext = inspect_excel_format(\n\u001b[0m\u001b[1;32m   1653\u001b[0m                     \u001b[0mcontent_or_path\u001b[0m\u001b[0;34m=\u001b[0m\u001b[0mpath_or_buffer\u001b[0m\u001b[0;34m,\u001b[0m \u001b[0mstorage_options\u001b[0m\u001b[0;34m=\u001b[0m\u001b[0mstorage_options\u001b[0m\u001b[0;34m\u001b[0m\u001b[0;34m\u001b[0m\u001b[0m\n\u001b[1;32m   1654\u001b[0m                 )\n",
            "\u001b[0;32m/usr/local/lib/python3.10/dist-packages/pandas/io/excel/_base.py\u001b[0m in \u001b[0;36minspect_excel_format\u001b[0;34m(content_or_path, storage_options)\u001b[0m\n\u001b[1;32m   1523\u001b[0m         \u001b[0mcontent_or_path\u001b[0m \u001b[0;34m=\u001b[0m \u001b[0mBytesIO\u001b[0m\u001b[0;34m(\u001b[0m\u001b[0mcontent_or_path\u001b[0m\u001b[0;34m)\u001b[0m\u001b[0;34m\u001b[0m\u001b[0;34m\u001b[0m\u001b[0m\n\u001b[1;32m   1524\u001b[0m \u001b[0;34m\u001b[0m\u001b[0m\n\u001b[0;32m-> 1525\u001b[0;31m     with get_handle(\n\u001b[0m\u001b[1;32m   1526\u001b[0m         \u001b[0mcontent_or_path\u001b[0m\u001b[0;34m,\u001b[0m \u001b[0;34m\"rb\"\u001b[0m\u001b[0;34m,\u001b[0m \u001b[0mstorage_options\u001b[0m\u001b[0;34m=\u001b[0m\u001b[0mstorage_options\u001b[0m\u001b[0;34m,\u001b[0m \u001b[0mis_text\u001b[0m\u001b[0;34m=\u001b[0m\u001b[0;32mFalse\u001b[0m\u001b[0;34m\u001b[0m\u001b[0;34m\u001b[0m\u001b[0m\n\u001b[1;32m   1527\u001b[0m     ) as handle:\n",
            "\u001b[0;32m/usr/local/lib/python3.10/dist-packages/pandas/io/common.py\u001b[0m in \u001b[0;36mget_handle\u001b[0;34m(path_or_buf, mode, encoding, compression, memory_map, is_text, errors, storage_options)\u001b[0m\n\u001b[1;32m    863\u001b[0m         \u001b[0;32melse\u001b[0m\u001b[0;34m:\u001b[0m\u001b[0;34m\u001b[0m\u001b[0;34m\u001b[0m\u001b[0m\n\u001b[1;32m    864\u001b[0m             \u001b[0;31m# Binary mode\u001b[0m\u001b[0;34m\u001b[0m\u001b[0;34m\u001b[0m\u001b[0m\n\u001b[0;32m--> 865\u001b[0;31m             \u001b[0mhandle\u001b[0m \u001b[0;34m=\u001b[0m \u001b[0mopen\u001b[0m\u001b[0;34m(\u001b[0m\u001b[0mhandle\u001b[0m\u001b[0;34m,\u001b[0m \u001b[0mioargs\u001b[0m\u001b[0;34m.\u001b[0m\u001b[0mmode\u001b[0m\u001b[0;34m)\u001b[0m\u001b[0;34m\u001b[0m\u001b[0;34m\u001b[0m\u001b[0m\n\u001b[0m\u001b[1;32m    866\u001b[0m         \u001b[0mhandles\u001b[0m\u001b[0;34m.\u001b[0m\u001b[0mappend\u001b[0m\u001b[0;34m(\u001b[0m\u001b[0mhandle\u001b[0m\u001b[0;34m)\u001b[0m\u001b[0;34m\u001b[0m\u001b[0;34m\u001b[0m\u001b[0m\n\u001b[1;32m    867\u001b[0m \u001b[0;34m\u001b[0m\u001b[0m\n",
            "\u001b[0;31mFileNotFoundError\u001b[0m: [Errno 2] No such file or directory: 'links.xlsx'"
          ]
        }
      ],
      "source": [
        "generos = ['Metal', 'Rock']\n",
        "db = [links (i) for i in generos]"
      ]
    },
    {
      "cell_type": "code",
      "execution_count": null,
      "metadata": {
        "id": "hKd59k1lVXSv"
      },
      "outputs": [],
      "source": [
        "def load(db):\n",
        "    i = 0\n",
        "    data = []\n",
        "    for genero in db:\n",
        "        data_genero = []\n",
        "        for song in genero:\n",
        "            try:  #si la cancion no esta descargada se descarga primero\n",
        "                song.load_song()\n",
        "            except:\n",
        "                song.download()\n",
        "                song.process_song()\n",
        "                song.load_song()\n",
        "            data_genero.append(song)\n",
        "            print('-----------------------------------------')\n",
        "        data.append(data_genero)\n",
        "    return(data)\n",
        "\n",
        "data = load(db)"
      ]
    },
    {
      "cell_type": "code",
      "execution_count": null,
      "metadata": {
        "id": "7QKkpIfPeOPJ"
      },
      "outputs": [],
      "source": [
        "generod = 1\n",
        "song = 6\n",
        "Audio(data[generod][song].play_section(),rate=data[generod][song].fs)"
      ]
    },
    {
      "cell_type": "code",
      "execution_count": null,
      "metadata": {
        "id": "m4I9JDYxq9kK"
      },
      "outputs": [],
      "source": [
        "data[generod][song].plot_sections()"
      ]
    },
    {
      "cell_type": "markdown",
      "metadata": {
        "id": "gg9lTZACrLPf"
      },
      "source": [
        "### Estimación del genero\n",
        "Se define una función que dada una canción compare esta su transformada con cada una de las trasformadas de cada canción de los distintos géneros en la base de datos, una vez terminada la comparación retorna la canción de la base de datos más parecida a la entrada, para esto se evalúa la diferencia de la trasformada de cada comparación y se halla su promedio, la canción con el menor promedio de diferencia corresponde a la canción más similar a la entrada, el género de la canción de entrada corresponde al género de la canción más parecida."
      ]
    },
    {
      "cell_type": "code",
      "execution_count": null,
      "metadata": {
        "id": "b8-HqL1nrHr4"
      },
      "outputs": [],
      "source": [
        "def get_genero(s_input):\n",
        "    dp = s_input.fft_sections\n",
        "    #prom_data = []\n",
        "    best = 500\n",
        "    for genero in data:\n",
        "        prom = []\n",
        "        i = 0\n",
        "        for song in genero:\n",
        "            dis_c1 = np.abs(dp[:][0]-song.fft_sections[:][0])\n",
        "            dis_c2 = np.abs(dp[:][1]-song.fft_sections[:][1])\n",
        "            prom.append(np.abs(np.mean(dis_c1)-np.mean(dis_c2)))\n",
        "\n",
        "            if prom[i] <= 5:\n",
        "                #print(f'{song.genero} prom: {prom[i]}: {song.link}')\n",
        "                pass\n",
        "            i+=1\n",
        "\n",
        "        if min(prom) < best:\n",
        "            best = min(prom)\n",
        "            #g = base[np.argmin(prom)].genero\n",
        "            g = genero[np.argmin(prom)]\n",
        "\n",
        "        #prom_data.append(np.mean(prom))\n",
        "\n",
        "    #print(f'\\nGenero: {generos[np.argmin(prom_data)]}')\n",
        "    return(g)"
      ]
    },
    {
      "cell_type": "markdown",
      "metadata": {
        "id": "EvHfa-Wzwf87"
      },
      "source": [
        "### Pruebas\n",
        "Se indroducen canciones y se estima su genero"
      ]
    },
    {
      "cell_type": "markdown",
      "metadata": {
        "id": "r4fKL3XI_qSp"
      },
      "source": [
        "##Menu de pruebas manuales\n"
      ]
    },
    {
      "cell_type": "code",
      "execution_count": null,
      "metadata": {
        "id": "nycx1P19AcNQ"
      },
      "outputs": [],
      "source": [
        "index = 50 #correr solo la primera vez"
      ]
    },
    {
      "cell_type": "code",
      "execution_count": null,
      "metadata": {
        "id": "3yfn7g7Q_ovf"
      },
      "outputs": [],
      "source": [
        "link = input('https://www.youtube.com/watch?v=W5b-a8Nzmag: ')\n",
        "S1 = Song(link,'pruebas',index)\n",
        "index += 1\n",
        "\n",
        "S1.download()\n",
        "S1.process_song()\n",
        "S1.load_song()\n",
        "\n",
        "g = get_genero(S1)\n",
        "print('-'*50)\n",
        "print(f'El genero de {S1.title()} es: {g.genero}')\n",
        "\n",
        "\n",
        "\n"
      ]
    },
    {
      "cell_type": "code",
      "execution_count": null,
      "metadata": {
        "id": "UxmY4VeyYguO"
      },
      "outputs": [],
      "source": [
        "Audio(S1.play_section(),rate=S1.fs)\n"
      ]
    },
    {
      "cell_type": "code",
      "execution_count": null,
      "metadata": {
        "id": "yQKRzw-XEgio"
      },
      "outputs": [],
      "source": [
        "#S1.plot_sections(dual=True)\n",
        "#g.process_song\n",
        "g.load_song()\n",
        "#g.path_Org\n",
        "#g.plot_sections()"
      ]
    },
    {
      "cell_type": "code",
      "execution_count": null,
      "metadata": {
        "id": "3LP57hzy0jho"
      },
      "outputs": [],
      "source": [
        "get_genero(S2).genero"
      ]
    },
    {
      "cell_type": "markdown",
      "metadata": {
        "id": "wkD7-0UTW_ei"
      },
      "source": [
        "Carra: 84.45558357679155\n",
        "elec: 45.504129447204974\n",
        "rock: 50.21328614230515\n",
        "126.268797207874"
      ]
    },
    {
      "cell_type": "code",
      "execution_count": null,
      "metadata": {
        "id": "bYeExUJhqd_T"
      },
      "outputs": [],
      "source": [
        "test_elec = ['https://www.youtube.com/watch?v=3YZgu0nHImA',\n",
        "            'https://www.youtube.com/watch?v=BGNyuNqAQPI',\n",
        "            'https://www.youtube.com/watch?v=W5b-a8Nzmag',\n",
        "            'https://www.youtube.com/watch?v=5JxgDJvqGmM',\n",
        "            'https://www.youtube.com/watch?v=zaIsVnmwdqg',\n",
        "            'https://www.youtube.com/watch?v=uY1QVrQJ16w',\n",
        "            'https://www.youtube.com/watch?v=vAEwLvxHVVk',\n",
        "            'https://www.youtube.com/watch?v=rIkPh9d_b1Y',]\n",
        "\n",
        "\n",
        "\n",
        "test_rock = ['https://www.youtube.com/watch?v=M2cckDmNLMI',\n",
        "            'https://www.youtube.com/watch?v=zPtyAzve2Dc',\n",
        "            'https://www.youtube.com/watch?v=scohx9trwrw',\n",
        "            'https://www.youtube.com/watch?v=PCp2iXA1uLE',\n",
        "            'https://www.youtube.com/watch?v=RWwrk9PMB28',\n",
        "            'https://www.youtube.com/watch?v=psUh0fbszsw',\n",
        "            'https://www.youtube.com/watch?v=KrRcxv7pkvs',\n",
        "            'https://www.youtube.com/watch?v=LnlgkuAak5Y',\n",
        "            'https://www.youtube.com/watch?v=ThI5qL-28a0',\n",
        "            'https://www.youtube.com/watch?v=2uFwEXhBihI']\n",
        "\n",
        "test_all = [test_elec,test_rock]"
      ]
    },
    {
      "cell_type": "code",
      "execution_count": null,
      "metadata": {
        "id": "L_qXX77KqYiH"
      },
      "outputs": [],
      "source": [
        "index = 0\n",
        "\n",
        "\n",
        "Metal = []\n",
        "Rock = []\n",
        "genero = 0\n",
        "\n",
        "for gn in test_all:\n",
        "\n",
        "    if genero == 1:\n",
        "        j = 'Rock'\n",
        "    elif genero == 2:\n",
        "        j = 'Metal'\n",
        "\n",
        "    for i in gn:\n",
        "        S2 = Song(i,f'input_pruebas_{1}',index)\n",
        "        index +=1\n",
        "        try:\n",
        "            S2.process_song()\n",
        "            S2.load_song()\n",
        "        except:\n",
        "            S2.download()\n",
        "            S2.process_song()\n",
        "            S2.load_song()\n",
        "        print('----------------------------------------------------------------------------')\n",
        "\n",
        "        g = get_genero(S2)\n",
        "        g = g.genero\n",
        "        print(S2.title())\n",
        "        #print(S2.link)\n",
        "        print(f'Genero: {g}')\n",
        "        print(f'Genero Real: {j}')\n",
        "\n",
        "        if g == j:\n",
        "            res = 'Correcto'\n",
        "        elif g == 'None':\n",
        "            res = 'None'\n",
        "        else:\n",
        "            res = 'Incorrecto'\n",
        "\n",
        "        if j == 'Rock':\n",
        "            Rock.append(res)\n",
        "        elif j == 'Metal':\n",
        "            Metal.append(res)\n",
        "\n",
        "    genero += 1\n",
        "\n",
        "print(f\"Metal: {Metal.count('Correcto')} de {len(Metal)}\")\n",
        "print(f\"Rock: {Rock.count('Correcto')} de {len(Rock)}\")"
      ]
    }
  ],
  "metadata": {
    "colab": {
      "provenance": [],
      "include_colab_link": true
    },
    "gpuClass": "standard",
    "kernelspec": {
      "display_name": "Python 3",
      "language": "python",
      "name": "python3"
    },
    "language_info": {
      "codemirror_mode": {
        "name": "ipython",
        "version": 3
      },
      "file_extension": ".py",
      "mimetype": "text/x-python",
      "name": "python",
      "nbconvert_exporter": "python",
      "pygments_lexer": "ipython3",
      "version": "3.10.1"
    }
  },
  "nbformat": 4,
  "nbformat_minor": 0
}